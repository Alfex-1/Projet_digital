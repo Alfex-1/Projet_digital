{
 "cells": [
  {
   "cell_type": "markdown",
   "metadata": {},
   "source": [
    "# Méthodes de sélection de variables par critères AIC|BIC"
   ]
  },
  {
   "cell_type": "markdown",
   "metadata": {},
   "source": [
    "Ce notebook se concentre sur la sélection de modèles pour les modèles Lasso qui sont des modèles linéaires avec une pénalité L1 pour les problèmes de régression. Plusieurs stratégies peuvent être utilisées pour sélectionner la valeur du paramètre de régularisation : via une validation croisée ou en utilisant un critère d'information, à savoir AIC ou BIC.\n",
    "\n",
    "Dans ce qui suit, nous explorerons ces différentes stratégies"
   ]
  },
  {
   "cell_type": "markdown",
   "metadata": {},
   "source": [
    "ce notebook s'inspire de la source [Lasso model selection: AIC-BIC / cross-validation](https://scikit-learn.org/stable/auto_examples/linear_model/plot_lasso_model_selection.html)"
   ]
  },
  {
   "cell_type": "code",
   "execution_count": 1,
   "metadata": {},
   "outputs": [],
   "source": [
    "# manipulation de données\n",
    "import pandas as pd\n",
    "import numpy as np\n",
    "\n",
    "# visualisation\n",
    "import pylab as pl\n",
    "import matplotlib.pyplot as plt\n",
    "import mplcyberpunk\n",
    "plt.style.use('cyberpunk')\n",
    "\n",
    "# modèles statistiques\n",
    "from mord import LogisticAT\n",
    "from sklearn.linear_model import LassoLarsIC"
   ]
  },
  {
   "cell_type": "markdown",
   "metadata": {},
   "source": [
    "## Données"
   ]
  },
  {
   "cell_type": "markdown",
   "metadata": {},
   "source": [
    "Chargement des données d'entraînement pré-traitées :"
   ]
  },
  {
   "cell_type": "code",
   "execution_count": 2,
   "metadata": {},
   "outputs": [],
   "source": [
    "df_train = pd.read_csv(\"../../data/train.csv\")\n",
    "df_test = pd.read_csv(\"../../data/test.csv\")\n",
    "\n",
    "def get_train_test_sets(train_data, test_data):\n",
    "    \"\"\"Fonction qui récupère les dataframes train et test et retourne les vecteurs utiles pour la phase\n",
    "    d'entrainement et test.\n",
    "\n",
    "    Args:\n",
    "        train_data (DataFrame): données d'entrainement pré-traitées\n",
    "        test_data (DataFrame): données de test pré-traitées\n",
    "\n",
    "    Returns:\n",
    "        tuple: X_train, X_test, y_train, y_test\n",
    "    \"\"\"\n",
    "    \n",
    "    X_train = train_data.drop(labels=[\"score\"], axis=1).values\n",
    "    y_train = train_data[\"score\"].values\n",
    "\n",
    "    X_test = test_data.drop(labels=[\"score\"], axis=1).values\n",
    "    y_test = test_data[\"score\"].values\n",
    "    \n",
    "\n",
    "    \n",
    "    return X_train, X_test, y_train, y_test\n",
    "\n",
    "X_train, X_test, y_train, y_test = get_train_test_sets(train_data=df_train, test_data=df_test)"
   ]
  },
  {
   "cell_type": "code",
   "execution_count": 3,
   "metadata": {},
   "outputs": [
    {
     "data": {
      "text/html": [
       "<div>\n",
       "<style scoped>\n",
       "    .dataframe tbody tr th:only-of-type {\n",
       "        vertical-align: middle;\n",
       "    }\n",
       "\n",
       "    .dataframe tbody tr th {\n",
       "        vertical-align: top;\n",
       "    }\n",
       "\n",
       "    .dataframe thead th {\n",
       "        text-align: right;\n",
       "    }\n",
       "</style>\n",
       "<table border=\"1\" class=\"dataframe\">\n",
       "  <thead>\n",
       "    <tr style=\"text-align: right;\">\n",
       "      <th></th>\n",
       "      <th>energy_100g</th>\n",
       "      <th>fat_100g</th>\n",
       "      <th>saturated-fat_100g</th>\n",
       "      <th>trans-fat_100g</th>\n",
       "      <th>cholesterol_100g</th>\n",
       "      <th>carbohydrates_100g</th>\n",
       "      <th>sugars_100g</th>\n",
       "      <th>fiber_100g</th>\n",
       "      <th>salt_100g</th>\n",
       "      <th>vitamin-c_100g</th>\n",
       "      <th>calcium_100g</th>\n",
       "      <th>iron_100g</th>\n",
       "      <th>score</th>\n",
       "    </tr>\n",
       "  </thead>\n",
       "  <tbody>\n",
       "    <tr>\n",
       "      <th>0</th>\n",
       "      <td>870.0</td>\n",
       "      <td>0.1</td>\n",
       "      <td>0.10</td>\n",
       "      <td>0.020106</td>\n",
       "      <td>0.005798</td>\n",
       "      <td>51.3</td>\n",
       "      <td>50.0</td>\n",
       "      <td>3.625</td>\n",
       "      <td>0.1016</td>\n",
       "      <td>0.037992</td>\n",
       "      <td>0.186487</td>\n",
       "      <td>0.002899</td>\n",
       "      <td>0</td>\n",
       "    </tr>\n",
       "    <tr>\n",
       "      <th>1</th>\n",
       "      <td>422.0</td>\n",
       "      <td>5.6</td>\n",
       "      <td>2.50</td>\n",
       "      <td>0.458468</td>\n",
       "      <td>0.001422</td>\n",
       "      <td>4.5</td>\n",
       "      <td>0.8</td>\n",
       "      <td>1.400</td>\n",
       "      <td>0.7620</td>\n",
       "      <td>0.024839</td>\n",
       "      <td>0.120000</td>\n",
       "      <td>0.008704</td>\n",
       "      <td>3</td>\n",
       "    </tr>\n",
       "    <tr>\n",
       "      <th>2</th>\n",
       "      <td>232.0</td>\n",
       "      <td>0.2</td>\n",
       "      <td>0.05</td>\n",
       "      <td>0.004377</td>\n",
       "      <td>0.010881</td>\n",
       "      <td>12.0</td>\n",
       "      <td>9.8</td>\n",
       "      <td>1.700</td>\n",
       "      <td>0.0060</td>\n",
       "      <td>0.014000</td>\n",
       "      <td>0.044413</td>\n",
       "      <td>0.001526</td>\n",
       "      <td>4</td>\n",
       "    </tr>\n",
       "    <tr>\n",
       "      <th>3</th>\n",
       "      <td>899.0</td>\n",
       "      <td>8.1</td>\n",
       "      <td>0.80</td>\n",
       "      <td>0.000000</td>\n",
       "      <td>0.001994</td>\n",
       "      <td>25.0</td>\n",
       "      <td>2.9</td>\n",
       "      <td>3.200</td>\n",
       "      <td>1.7000</td>\n",
       "      <td>0.044772</td>\n",
       "      <td>0.120000</td>\n",
       "      <td>0.005993</td>\n",
       "      <td>3</td>\n",
       "    </tr>\n",
       "    <tr>\n",
       "      <th>4</th>\n",
       "      <td>883.0</td>\n",
       "      <td>12.0</td>\n",
       "      <td>3.60</td>\n",
       "      <td>0.153025</td>\n",
       "      <td>0.000465</td>\n",
       "      <td>19.0</td>\n",
       "      <td>3.3</td>\n",
       "      <td>0.000</td>\n",
       "      <td>0.7700</td>\n",
       "      <td>0.026384</td>\n",
       "      <td>0.571278</td>\n",
       "      <td>0.010938</td>\n",
       "      <td>2</td>\n",
       "    </tr>\n",
       "    <tr>\n",
       "      <th>...</th>\n",
       "      <td>...</td>\n",
       "      <td>...</td>\n",
       "      <td>...</td>\n",
       "      <td>...</td>\n",
       "      <td>...</td>\n",
       "      <td>...</td>\n",
       "      <td>...</td>\n",
       "      <td>...</td>\n",
       "      <td>...</td>\n",
       "      <td>...</td>\n",
       "      <td>...</td>\n",
       "      <td>...</td>\n",
       "      <td>...</td>\n",
       "    </tr>\n",
       "    <tr>\n",
       "      <th>5887</th>\n",
       "      <td>842.0</td>\n",
       "      <td>10.9</td>\n",
       "      <td>1.50</td>\n",
       "      <td>0.261456</td>\n",
       "      <td>0.002182</td>\n",
       "      <td>11.5</td>\n",
       "      <td>0.4</td>\n",
       "      <td>1.700</td>\n",
       "      <td>1.6002</td>\n",
       "      <td>0.006586</td>\n",
       "      <td>0.120000</td>\n",
       "      <td>0.001531</td>\n",
       "      <td>3</td>\n",
       "    </tr>\n",
       "    <tr>\n",
       "      <th>5888</th>\n",
       "      <td>448.0</td>\n",
       "      <td>3.5</td>\n",
       "      <td>1.30</td>\n",
       "      <td>0.000000</td>\n",
       "      <td>0.000917</td>\n",
       "      <td>12.1</td>\n",
       "      <td>0.4</td>\n",
       "      <td>1.125</td>\n",
       "      <td>0.7000</td>\n",
       "      <td>0.024087</td>\n",
       "      <td>0.315455</td>\n",
       "      <td>0.003401</td>\n",
       "      <td>3</td>\n",
       "    </tr>\n",
       "    <tr>\n",
       "      <th>5889</th>\n",
       "      <td>450.0</td>\n",
       "      <td>5.1</td>\n",
       "      <td>2.70</td>\n",
       "      <td>0.000000</td>\n",
       "      <td>0.000764</td>\n",
       "      <td>9.4</td>\n",
       "      <td>0.6</td>\n",
       "      <td>1.200</td>\n",
       "      <td>0.6300</td>\n",
       "      <td>0.028690</td>\n",
       "      <td>0.120000</td>\n",
       "      <td>0.002619</td>\n",
       "      <td>3</td>\n",
       "    </tr>\n",
       "    <tr>\n",
       "      <th>5890</th>\n",
       "      <td>1256.0</td>\n",
       "      <td>15.6</td>\n",
       "      <td>9.10</td>\n",
       "      <td>0.000000</td>\n",
       "      <td>0.000000</td>\n",
       "      <td>27.5</td>\n",
       "      <td>3.6</td>\n",
       "      <td>1.700</td>\n",
       "      <td>1.8796</td>\n",
       "      <td>0.000000</td>\n",
       "      <td>0.408592</td>\n",
       "      <td>0.005724</td>\n",
       "      <td>1</td>\n",
       "    </tr>\n",
       "    <tr>\n",
       "      <th>5891</th>\n",
       "      <td>146.0</td>\n",
       "      <td>0.1</td>\n",
       "      <td>0.10</td>\n",
       "      <td>0.011006</td>\n",
       "      <td>0.000250</td>\n",
       "      <td>4.4</td>\n",
       "      <td>4.4</td>\n",
       "      <td>0.500</td>\n",
       "      <td>0.1000</td>\n",
       "      <td>0.022714</td>\n",
       "      <td>0.160000</td>\n",
       "      <td>0.004076</td>\n",
       "      <td>4</td>\n",
       "    </tr>\n",
       "  </tbody>\n",
       "</table>\n",
       "<p>5892 rows × 13 columns</p>\n",
       "</div>"
      ],
      "text/plain": [
       "      energy_100g  fat_100g  saturated-fat_100g  trans-fat_100g  \\\n",
       "0           870.0       0.1                0.10        0.020106   \n",
       "1           422.0       5.6                2.50        0.458468   \n",
       "2           232.0       0.2                0.05        0.004377   \n",
       "3           899.0       8.1                0.80        0.000000   \n",
       "4           883.0      12.0                3.60        0.153025   \n",
       "...           ...       ...                 ...             ...   \n",
       "5887        842.0      10.9                1.50        0.261456   \n",
       "5888        448.0       3.5                1.30        0.000000   \n",
       "5889        450.0       5.1                2.70        0.000000   \n",
       "5890       1256.0      15.6                9.10        0.000000   \n",
       "5891        146.0       0.1                0.10        0.011006   \n",
       "\n",
       "      cholesterol_100g  carbohydrates_100g  sugars_100g  fiber_100g  \\\n",
       "0             0.005798                51.3         50.0       3.625   \n",
       "1             0.001422                 4.5          0.8       1.400   \n",
       "2             0.010881                12.0          9.8       1.700   \n",
       "3             0.001994                25.0          2.9       3.200   \n",
       "4             0.000465                19.0          3.3       0.000   \n",
       "...                ...                 ...          ...         ...   \n",
       "5887          0.002182                11.5          0.4       1.700   \n",
       "5888          0.000917                12.1          0.4       1.125   \n",
       "5889          0.000764                 9.4          0.6       1.200   \n",
       "5890          0.000000                27.5          3.6       1.700   \n",
       "5891          0.000250                 4.4          4.4       0.500   \n",
       "\n",
       "      salt_100g  vitamin-c_100g  calcium_100g  iron_100g  score  \n",
       "0        0.1016        0.037992      0.186487   0.002899      0  \n",
       "1        0.7620        0.024839      0.120000   0.008704      3  \n",
       "2        0.0060        0.014000      0.044413   0.001526      4  \n",
       "3        1.7000        0.044772      0.120000   0.005993      3  \n",
       "4        0.7700        0.026384      0.571278   0.010938      2  \n",
       "...         ...             ...           ...        ...    ...  \n",
       "5887     1.6002        0.006586      0.120000   0.001531      3  \n",
       "5888     0.7000        0.024087      0.315455   0.003401      3  \n",
       "5889     0.6300        0.028690      0.120000   0.002619      3  \n",
       "5890     1.8796        0.000000      0.408592   0.005724      1  \n",
       "5891     0.1000        0.022714      0.160000   0.004076      4  \n",
       "\n",
       "[5892 rows x 13 columns]"
      ]
     },
     "execution_count": 3,
     "metadata": {},
     "output_type": "execute_result"
    }
   ],
   "source": [
    "liste_variables = ['energy_100g', 'fat_100g', 'saturated-fat_100g', 'trans-fat_100g', 'cholesterol_100g', 'carbohydrates_100g', 'sugars_100g', 'fiber_100g', 'salt_100g', 'vitamin-c_100g', 'calcium_100g', 'iron_100g', 'score']\n",
    "\n",
    "df_train[liste_variables]"
   ]
  },
  {
   "cell_type": "markdown",
   "metadata": {},
   "source": [
    "## 1 Sélection Lasso par critère AIC | BIC"
   ]
  },
  {
   "cell_type": "markdown",
   "metadata": {},
   "source": [
    "`LassoLarsIC` fournit un estimateur Lasso qui utilise le critère d'information d'Akaike (AIC) ou le critère d'information de Bayes (BIC) pour sélectionner la valeur optimale du paramètre de régularisation alpha."
   ]
  },
  {
   "cell_type": "code",
   "execution_count": 3,
   "metadata": {},
   "outputs": [
    {
     "name": "stderr",
     "output_type": "stream",
     "text": [
      "C:\\Users\\jaure\\AppData\\Local\\Temp\\ipykernel_10832\\2454080757.py:84: RuntimeWarning: divide by zero encountered in log10\n",
      "  pl.plot(-np.log10(alphas_), criterion_, '--', color=color,\n"
     ]
    },
    {
     "data": {
      "text/plain": [
       "Text(0.5, 1.0, \"Critère d'information model selection \")"
      ]
     },
     "execution_count": 3,
     "metadata": {},
     "output_type": "execute_result"
    },
    {
     "data": {
      "image/png": "[encoded data removed]",
      "text/plain": [
       "<Figure size 640x480 with 1 Axes>"
      ]
     },
     "metadata": {},
     "output_type": "display_data"
    }
   ],
   "source": [
    "from sklearn.metrics import mean_squared_error, r2_score, accuracy_score\n",
    "from mord import LogisticAT\n",
    "\n",
    "\n",
    "## On normalise les données\n",
    "from sklearn.preprocessing import StandardScaler\n",
    "\n",
    "scaler = StandardScaler()\n",
    "X_train_ = scaler.fit_transform(X_train)\n",
    "X_test_ = scaler.transform(X_test)\n",
    "\n",
    "# Pour le BIC\n",
    "\n",
    "model_bic = LassoLarsIC(criterion='bic')\n",
    "model_bic.fit(X_train_, y_train)\n",
    "alpha_bic_ = model_bic.alpha_\n",
    "\n",
    "\n",
    "# Variables sélectionnées avec critère BIC\n",
    "indices_variables_bic = np.where(model_bic.coef_ != 0)[0]\n",
    "variables_bic = df_train.columns[indices_variables_bic]\n",
    "\n",
    "# Entraîner le modèle de régression logistique ordinale avec critère BIC\n",
    "model_ordinal_bic = LogisticAT(alpha=0)\n",
    "model_ordinal_bic.fit(X_train[:, indices_variables_bic], y_train)\n",
    "\n",
    "# Prédire les valeurs sur l'ensemble de test\n",
    "y_pred_bic = model_ordinal_bic.predict(X_test[:, indices_variables_bic])\n",
    "\n",
    "# Statistiques du BIC\n",
    "r2_bic = r2_score(y_test, y_pred_bic)\n",
    "mse_bic = mean_squared_error(y_test, y_pred_bic)\n",
    "accuracy_bic = accuracy_score(y_test, y_pred_bic)\n",
    "\n",
    "\n",
    "# Pour l'AIC\n",
    "\n",
    "model_aic = LassoLarsIC(criterion='aic')\n",
    "model_aic.fit(X_train_, y_train)\n",
    "alpha_aic_ = model_aic.alpha_\n",
    "\n",
    "# Variables sélectionnées avec critère AIC\n",
    "indices_variables_aic = np.where(model_aic.coef_ != 0)[0]\n",
    "variables_aic = df_train.columns[indices_variables_aic]\n",
    "\n",
    "# Entraîner le modèle de régression logistique ordinale avec critère AIC\n",
    "model_ordinal_aic = LogisticAT(alpha=0)\n",
    "model_ordinal_aic.fit(X_train[:, list(indices_variables_aic)], y_train)\n",
    "\n",
    "# Prédire les valeurs sur l'ensemble de test\n",
    "y_pred_aic = model_ordinal_aic.predict(X_test[:, list(indices_variables_aic)])\n",
    "\n",
    "# Statistiques de l'AIC\n",
    "r2_aic = r2_score(y_test, y_pred_aic)\n",
    "mse_aic = mean_squared_error(y_test, y_pred_aic)\n",
    "accuracy_aic = accuracy_score(y_test, y_pred_aic)\n",
    "\n",
    "#Résultats des deux critères\n",
    "\n",
    "results = pd.DataFrame({\n",
    "    \"Critère\": [\"AIC\", \"BIC\"],\n",
    "    \"Variables Sélectionnées\": [list(variables_aic), list(variables_bic)],\n",
    "    \"R²\": [r2_aic, r2_bic],\n",
    "    \"MSE\": [mse_aic, mse_bic],\n",
    "    \"Accuracy model ordinal\": [accuracy_aic, accuracy_bic],\n",
    "    \"Alpha (AIC)\": [alpha_aic_, np.nan],  # Notez que la valeur de l'alpha pour BIC est obtenue de la même manière\n",
    "    \"Alpha (BIC)\": [np.nan, alpha_bic_]\n",
    "})\n",
    "\n",
    "def highlight_min(s):\n",
    "    is_min = s == s.min()\n",
    "    return ['background-color: yellow' if v else '' for v in is_min]\n",
    "\n",
    "\n",
    "results.style.apply(highlight_min, subset=[\"Alpha (AIC)\", \"Alpha (BIC)\"])\n",
    "\n",
    "\n",
    "\n",
    "\n",
    "def plot_ic_criterion(model, name, color):\n",
    "    alpha_ = model.alpha_\n",
    "    alphas_ = model.alphas_\n",
    "    criterion_ = model.criterion_\n",
    "    pl.plot(-np.log10(alphas_), criterion_, '--', color=color,\n",
    "            linewidth=3, label='%s criterion' % name)\n",
    "    pl.axvline(-np.log10(alpha_), color=color,\n",
    "              linewidth=3, label='alpha: %s estimate' % name)\n",
    "    pl.xlabel('-log(lambda)')\n",
    "    pl.ylabel('criterion')\n",
    "\n",
    "pl.figure()\n",
    "plot_ic_criterion(model_aic, 'AIC', 'b')\n",
    "plot_ic_criterion(model_bic, 'BIC', 'r')\n",
    "pl.legend()\n",
    "pl.title(\"Critère d'information model selection \")\n"
   ]
  },
  {
   "cell_type": "code",
   "execution_count": 4,
   "metadata": {},
   "outputs": [
    {
     "data": {
      "text/html": [
       "<div>\n",
       "<style scoped>\n",
       "    .dataframe tbody tr th:only-of-type {\n",
       "        vertical-align: middle;\n",
       "    }\n",
       "\n",
       "    .dataframe tbody tr th {\n",
       "        vertical-align: top;\n",
       "    }\n",
       "\n",
       "    .dataframe thead th {\n",
       "        text-align: right;\n",
       "    }\n",
       "</style>\n",
       "<table border=\"1\" class=\"dataframe\">\n",
       "  <thead>\n",
       "    <tr style=\"text-align: right;\">\n",
       "      <th></th>\n",
       "      <th>Critère</th>\n",
       "      <th>Variables Sélectionnées</th>\n",
       "      <th>R²</th>\n",
       "      <th>MSE</th>\n",
       "      <th>Accuracy model ordinal</th>\n",
       "      <th>Alpha (AIC)</th>\n",
       "      <th>Alpha (BIC)</th>\n",
       "    </tr>\n",
       "  </thead>\n",
       "  <tbody>\n",
       "    <tr>\n",
       "      <th>0</th>\n",
       "      <td>AIC</td>\n",
       "      <td>[energy_100g, fat_100g, saturated-fat_100g, tr...</td>\n",
       "      <td>0.839055</td>\n",
       "      <td>0.316361</td>\n",
       "      <td>0.71962</td>\n",
       "      <td>0.002742</td>\n",
       "      <td>NaN</td>\n",
       "    </tr>\n",
       "    <tr>\n",
       "      <th>1</th>\n",
       "      <td>BIC</td>\n",
       "      <td>[energy_100g, fat_100g, saturated-fat_100g, tr...</td>\n",
       "      <td>0.839055</td>\n",
       "      <td>0.316361</td>\n",
       "      <td>0.71962</td>\n",
       "      <td>NaN</td>\n",
       "      <td>0.002742</td>\n",
       "    </tr>\n",
       "  </tbody>\n",
       "</table>\n",
       "</div>"
      ],
      "text/plain": [
       "  Critère                            Variables Sélectionnées        R²  \\\n",
       "0     AIC  [energy_100g, fat_100g, saturated-fat_100g, tr...  0.839055   \n",
       "1     BIC  [energy_100g, fat_100g, saturated-fat_100g, tr...  0.839055   \n",
       "\n",
       "        MSE  Accuracy model ordinal  Alpha (AIC)  Alpha (BIC)  \n",
       "0  0.316361                 0.71962     0.002742          NaN  \n",
       "1  0.316361                 0.71962          NaN     0.002742  "
      ]
     },
     "execution_count": 4,
     "metadata": {},
     "output_type": "execute_result"
    }
   ],
   "source": [
    "results"
   ]
  },
  {
   "cell_type": "markdown",
   "metadata": {},
   "source": [
    "### Variables sélectionnées"
   ]
  },
  {
   "cell_type": "markdown",
   "metadata": {},
   "source": [
    "Les deux modèles donnent les mêmes variables"
   ]
  },
  {
   "cell_type": "code",
   "execution_count": 5,
   "metadata": {},
   "outputs": [
    {
     "data": {
      "text/plain": [
       "['energy_100g',\n",
       " 'fat_100g',\n",
       " 'saturated-fat_100g',\n",
       " 'trans-fat_100g',\n",
       " 'cholesterol_100g',\n",
       " 'carbohydrates_100g',\n",
       " 'sugars_100g',\n",
       " 'fiber_100g',\n",
       " 'salt_100g',\n",
       " 'vitamin-c_100g',\n",
       " 'calcium_100g',\n",
       " 'iron_100g']"
      ]
     },
     "execution_count": 5,
     "metadata": {},
     "output_type": "execute_result"
    }
   ],
   "source": [
    "results[\"Variables Sélectionnées\"][1]"
   ]
  },
  {
   "cell_type": "code",
   "execution_count": null,
   "metadata": {},
   "outputs": [],
   "source": [
    "# Afficher les coefficients du modèle optimal au sens du BIC\n",
    "coefficients_bic = model_ordinal_bic.coef_\n",
    "print(\"Coefficients du modèle optimal au sens du BIC:\")\n",
    "for variable, coefficient in zip(variables_bic, coefficients_bic):\n",
    "    print(f\"{variable}: {coefficient}\")"
   ]
  },
  {
   "cell_type": "markdown",
   "metadata": {},
   "source": [
    "## Application du modèle"
   ]
  },
  {
   "cell_type": "code",
   "execution_count": 8,
   "metadata": {},
   "outputs": [],
   "source": [
    "model = LogisticAT(alpha=alpha_bic_)\n",
    "model.fit(X_train[:, list(indices_variables_bic)], y_train)\n",
    "\n",
    "import pickle\n",
    "\n",
    "with open(f\"../model/modele_ordinal.pkl\", 'wb') as model_file:\n",
    "    pickle.dump(model, model_file)\n"
   ]
  },
  {
   "cell_type": "markdown",
   "metadata": {},
   "source": [
    "Re-load du modèle"
   ]
  },
  {
   "cell_type": "code",
   "execution_count": 9,
   "metadata": {},
   "outputs": [
    {
     "name": "stdout",
     "output_type": "stream",
     "text": [
      "72.51%\n"
     ]
    }
   ],
   "source": [
    "with open('../model/modele_ordinal.pkl', 'rb') as model_file:\n",
    "    model_ordinal = pickle.load(model_file)\n",
    "    \n",
    "predictions = model.predict(X_test[:, indices_variables_bic])\n",
    "accuracy_ordinal = accuracy_score(y_test, predictions)\n",
    "print(\"{:.2f}%\".format(accuracy_ordinal * 100))"
   ]
  },
  {
   "cell_type": "markdown",
   "metadata": {},
   "source": [
    "# Régression Ridge"
   ]
  },
  {
   "cell_type": "markdown",
   "metadata": {},
   "source": [
    "On va utiliser la régression régularisée Ridge (qui est une régression ordinaire) et on va l'adapter à notre problème de régression ordinale. Pour se faire, on va faire suivre la régression Ridge d'une transformation ordonnale des prédictions."
   ]
  },
  {
   "cell_type": "code",
   "execution_count": 14,
   "metadata": {},
   "outputs": [],
   "source": [
    "from sklearn.linear_model import Ridge\n",
    "from sklearn.preprocessing import OrdinalEncoder\n",
    "\n",
    "\n",
    "X = X_train[:, list(indices_variables_bic)]\n",
    "X_t = X_test[:, list(indices_variables_bic)]\n",
    "    \n",
    "\n",
    "# On crée un objet OrdinalEncoder pour encoder les catégories ord\n",
    "ordinal_encoder = OrdinalEncoder()\n",
    "\n",
    "# On transforme les catégories ordinales de la variable cible pour le modèle Ridge\n",
    "y_encoded = ordinal_encoder.fit_transform(y_train.reshape(-1, 1))\n",
    "\n",
    "# On Crée un modèle de régression Ridge\n",
    "alpha = 1.0  # Paramètre de régularisation\n",
    "ridge = Ridge(alpha=1.0)\n",
    "\n",
    "# Entraînement du modèle Ridge sur nos données de train\n",
    "ridge.fit(X, y_encoded)\n",
    "\n",
    "# Prédictions sur les données test\n",
    "predictions = ridge.predict(X_t)\n",
    "\n",
    "# On transforme les prédictions Ridge en catégories ordinales pour retrouver nos scores\n",
    "predictions_ordinales = ordinal_encoder.inverse_transform(predictions.reshape(-1, 1))\n",
    "\n",
    "# On calcule le MSE\n",
    "erreur = mean_squared_error(y_test, predictions)\n",
    "print(erreur)\n"
   ]
  }
 ],
 "metadata": {
  "kernelspec": {
   "display_name": "Python 3 (ipykernel)",
   "language": "python",
   "name": "python3"
  },
  "language_info": {
   "codemirror_mode": {
    "name": "ipython",
    "version": 3
   },
   "file_extension": ".py",
   "mimetype": "text/x-python",
   "name": "python",
   "nbconvert_exporter": "python",
   "pygments_lexer": "ipython3",
   "version": "3.10.9"
  }
 },
 "nbformat": 4,
 "nbformat_minor": 2
}
