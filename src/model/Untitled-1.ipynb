{
 "cells": [
  {
   "cell_type": "markdown",
   "metadata": {},
   "source": [
    "#### Ce notebook rassemble les méthodes statistiques employées pour la sélection de variables pour le modèle de régression mogistique ordinale"
   ]
  },
  {
   "cell_type": "code",
   "execution_count": 34,
   "metadata": {},
   "outputs": [
    {
     "name": "stdout",
     "output_type": "stream",
     "text": [
      "Requirement already satisfied: tqdm in c:\\users\\jaure\\anaconda3\\lib\\site-packages (4.65.0)\n",
      "Requirement already satisfied: colorama in c:\\users\\jaure\\anaconda3\\lib\\site-packages (from tqdm) (0.4.6)\n"
     ]
    }
   ],
   "source": [
    "!pip install tqdm"
   ]
  },
  {
   "cell_type": "markdown",
   "metadata": {},
   "source": [
    "### Importation des modules essentiels"
   ]
  },
  {
   "cell_type": "code",
   "execution_count": 35,
   "metadata": {},
   "outputs": [],
   "source": [
    "import pandas as pd\n",
    "import seaborn as sns\n",
    "import matplotlib.pyplot as plt\n",
    "import numpy as np\n",
    "import mplcyberpunk\n",
    "plt.style.use('cyberpunk')\n",
    "\n",
    "from mord import LogisticAT     # mord (Multi-class Ordinal Regression) est le module python adéquat pour la régression logistique ordinale\n",
    "from sklearn.metrics import accuracy_score\n",
    "from sklearn.model_selection import train_test_split\n",
    "\n",
    "from typing import Tuple, Dict, List, Callable, Any\n",
    "\n",
    "np.random.seed(42) # set random seed for reproductibility\n",
    "from tqdm import tqdm"
   ]
  },
  {
   "cell_type": "markdown",
   "metadata": {},
   "source": [
    "## 1 Lecture des données"
   ]
  },
  {
   "cell_type": "code",
   "execution_count": 36,
   "metadata": {},
   "outputs": [
    {
     "data": {
      "text/html": [
       "<div>\n",
       "<style scoped>\n",
       "    .dataframe tbody tr th:only-of-type {\n",
       "        vertical-align: middle;\n",
       "    }\n",
       "\n",
       "    .dataframe tbody tr th {\n",
       "        vertical-align: top;\n",
       "    }\n",
       "\n",
       "    .dataframe thead th {\n",
       "        text-align: right;\n",
       "    }\n",
       "</style>\n",
       "<table border=\"1\" class=\"dataframe\">\n",
       "  <thead>\n",
       "    <tr style=\"text-align: right;\">\n",
       "      <th></th>\n",
       "      <th>energy_100g</th>\n",
       "      <th>fat_100g</th>\n",
       "      <th>saturated-fat_100g</th>\n",
       "      <th>trans-fat_100g</th>\n",
       "      <th>cholesterol_100g</th>\n",
       "      <th>carbohydrates_100g</th>\n",
       "      <th>sugars_100g</th>\n",
       "      <th>fiber_100g</th>\n",
       "      <th>proteins_100g</th>\n",
       "      <th>salt_100g</th>\n",
       "      <th>...</th>\n",
       "      <th>countries_fr</th>\n",
       "      <th>ingredients_text</th>\n",
       "      <th>serving_size</th>\n",
       "      <th>additives_n</th>\n",
       "      <th>additives</th>\n",
       "      <th>additives_tags</th>\n",
       "      <th>additives_fr</th>\n",
       "      <th>ingredients_from_palm_oil_n</th>\n",
       "      <th>ingredients_that_may_be_from_palm_oil_n</th>\n",
       "      <th>nutrition_grade_fr</th>\n",
       "    </tr>\n",
       "  </thead>\n",
       "  <tbody>\n",
       "    <tr>\n",
       "      <th>0</th>\n",
       "      <td>586.0</td>\n",
       "      <td>3.800000</td>\n",
       "      <td>1.4</td>\n",
       "      <td>NaN</td>\n",
       "      <td>NaN</td>\n",
       "      <td>16.200000</td>\n",
       "      <td>0.5</td>\n",
       "      <td>1.5</td>\n",
       "      <td>9.3</td>\n",
       "      <td>0.60</td>\n",
       "      <td>...</td>\n",
       "      <td>France</td>\n",
       "      <td>NaN</td>\n",
       "      <td>400 g</td>\n",
       "      <td>NaN</td>\n",
       "      <td>NaN</td>\n",
       "      <td>NaN</td>\n",
       "      <td>NaN</td>\n",
       "      <td>NaN</td>\n",
       "      <td>NaN</td>\n",
       "      <td>a</td>\n",
       "    </tr>\n",
       "    <tr>\n",
       "      <th>1</th>\n",
       "      <td>1665.0</td>\n",
       "      <td>2.700000</td>\n",
       "      <td>0.6</td>\n",
       "      <td>NaN</td>\n",
       "      <td>NaN</td>\n",
       "      <td>12.766667</td>\n",
       "      <td>3.3</td>\n",
       "      <td>4.6</td>\n",
       "      <td>12.0</td>\n",
       "      <td>1.11</td>\n",
       "      <td>...</td>\n",
       "      <td>France</td>\n",
       "      <td>NaN</td>\n",
       "      <td>NaN</td>\n",
       "      <td>NaN</td>\n",
       "      <td>NaN</td>\n",
       "      <td>NaN</td>\n",
       "      <td>NaN</td>\n",
       "      <td>NaN</td>\n",
       "      <td>NaN</td>\n",
       "      <td>a</td>\n",
       "    </tr>\n",
       "    <tr>\n",
       "      <th>2</th>\n",
       "      <td>452.0</td>\n",
       "      <td>1.600000</td>\n",
       "      <td>0.9</td>\n",
       "      <td>NaN</td>\n",
       "      <td>NaN</td>\n",
       "      <td>9.333333</td>\n",
       "      <td>1.3</td>\n",
       "      <td>0.8</td>\n",
       "      <td>4.3</td>\n",
       "      <td>0.45</td>\n",
       "      <td>...</td>\n",
       "      <td>France</td>\n",
       "      <td>NaN</td>\n",
       "      <td>NaN</td>\n",
       "      <td>NaN</td>\n",
       "      <td>NaN</td>\n",
       "      <td>NaN</td>\n",
       "      <td>NaN</td>\n",
       "      <td>NaN</td>\n",
       "      <td>NaN</td>\n",
       "      <td>a</td>\n",
       "    </tr>\n",
       "    <tr>\n",
       "      <th>3</th>\n",
       "      <td>155.0</td>\n",
       "      <td>0.500000</td>\n",
       "      <td>0.1</td>\n",
       "      <td>NaN</td>\n",
       "      <td>NaN</td>\n",
       "      <td>5.900000</td>\n",
       "      <td>5.5</td>\n",
       "      <td>3.0</td>\n",
       "      <td>0.7</td>\n",
       "      <td>0.25</td>\n",
       "      <td>...</td>\n",
       "      <td>France</td>\n",
       "      <td>i sont full'/ s, . tt to it values kcal \\fatiò...</td>\n",
       "      <td>NaN</td>\n",
       "      <td>1.0</td>\n",
       "      <td>[ i-sont-full-s -&gt; fr:i-sont-full-s  ]  [ i-s...</td>\n",
       "      <td>en:e400</td>\n",
       "      <td>E400 - Acide alginique</td>\n",
       "      <td>0.0</td>\n",
       "      <td>0.0</td>\n",
       "      <td>a</td>\n",
       "    </tr>\n",
       "    <tr>\n",
       "      <th>4</th>\n",
       "      <td>586.0</td>\n",
       "      <td>0.366667</td>\n",
       "      <td>1.0</td>\n",
       "      <td>NaN</td>\n",
       "      <td>NaN</td>\n",
       "      <td>5.800000</td>\n",
       "      <td>6.0</td>\n",
       "      <td>3.0</td>\n",
       "      <td>5.0</td>\n",
       "      <td>0.09</td>\n",
       "      <td>...</td>\n",
       "      <td>France</td>\n",
       "      <td>NaN</td>\n",
       "      <td>NaN</td>\n",
       "      <td>NaN</td>\n",
       "      <td>NaN</td>\n",
       "      <td>NaN</td>\n",
       "      <td>NaN</td>\n",
       "      <td>NaN</td>\n",
       "      <td>NaN</td>\n",
       "      <td>a</td>\n",
       "    </tr>\n",
       "  </tbody>\n",
       "</table>\n",
       "<p>5 rows × 33 columns</p>\n",
       "</div>"
      ],
      "text/plain": [
       "   energy_100g  fat_100g  saturated-fat_100g  trans-fat_100g  \\\n",
       "0        586.0  3.800000                 1.4             NaN   \n",
       "1       1665.0  2.700000                 0.6             NaN   \n",
       "2        452.0  1.600000                 0.9             NaN   \n",
       "3        155.0  0.500000                 0.1             NaN   \n",
       "4        586.0  0.366667                 1.0             NaN   \n",
       "\n",
       "   cholesterol_100g  carbohydrates_100g  sugars_100g  fiber_100g  \\\n",
       "0               NaN           16.200000          0.5         1.5   \n",
       "1               NaN           12.766667          3.3         4.6   \n",
       "2               NaN            9.333333          1.3         0.8   \n",
       "3               NaN            5.900000          5.5         3.0   \n",
       "4               NaN            5.800000          6.0         3.0   \n",
       "\n",
       "   proteins_100g  salt_100g  ...  countries_fr  \\\n",
       "0            9.3       0.60  ...        France   \n",
       "1           12.0       1.11  ...        France   \n",
       "2            4.3       0.45  ...        France   \n",
       "3            0.7       0.25  ...        France   \n",
       "4            5.0       0.09  ...        France   \n",
       "\n",
       "                                    ingredients_text  serving_size  \\\n",
       "0                                                NaN         400 g   \n",
       "1                                                NaN           NaN   \n",
       "2                                                NaN           NaN   \n",
       "3  i sont full'/ s, . tt to it values kcal \\fatiò...           NaN   \n",
       "4                                                NaN           NaN   \n",
       "\n",
       "   additives_n                                          additives  \\\n",
       "0          NaN                                                NaN   \n",
       "1          NaN                                                NaN   \n",
       "2          NaN                                                NaN   \n",
       "3          1.0   [ i-sont-full-s -> fr:i-sont-full-s  ]  [ i-s...   \n",
       "4          NaN                                                NaN   \n",
       "\n",
       "   additives_tags            additives_fr ingredients_from_palm_oil_n  \\\n",
       "0             NaN                     NaN                         NaN   \n",
       "1             NaN                     NaN                         NaN   \n",
       "2             NaN                     NaN                         NaN   \n",
       "3         en:e400  E400 - Acide alginique                         0.0   \n",
       "4             NaN                     NaN                         NaN   \n",
       "\n",
       "  ingredients_that_may_be_from_palm_oil_n nutrition_grade_fr  \n",
       "0                                     NaN                  a  \n",
       "1                                     NaN                  a  \n",
       "2                                     NaN                  a  \n",
       "3                                     0.0                  a  \n",
       "4                                     NaN                  a  \n",
       "\n",
       "[5 rows x 33 columns]"
      ]
     },
     "execution_count": 36,
     "metadata": {},
     "output_type": "execute_result"
    }
   ],
   "source": [
    "df_nutriscore = pd.read_csv(\"data\\data_clean_principal.csv\".replace('\\\\', '/'))\n",
    "df_nutriscore.head()"
   ]
  },
  {
   "cell_type": "code",
   "execution_count": 37,
   "metadata": {},
   "outputs": [
    {
     "data": {
      "text/plain": [
       "energy_100g                                    0\n",
       "fat_100g                                       0\n",
       "saturated-fat_100g                             0\n",
       "trans-fat_100g                               173\n",
       "cholesterol_100g                              93\n",
       "carbohydrates_100g                             0\n",
       "sugars_100g                                    0\n",
       "fiber_100g                                     0\n",
       "proteins_100g                                  0\n",
       "salt_100g                                      0\n",
       "sodium_100g                                    0\n",
       "vitamin-a_100g                                93\n",
       "vitamin-c_100g                                17\n",
       "calcium_100g                                  93\n",
       "iron_100g                                     73\n",
       "nutrition-score-fr_100g                        0\n",
       "code                                           0\n",
       "creator                                        0\n",
       "created_t                                      0\n",
       "last_modified_t                                0\n",
       "product_name                                 274\n",
       "brands                                       260\n",
       "countries                                      0\n",
       "countries_fr                                   0\n",
       "ingredients_text                           17791\n",
       "serving_size                               31800\n",
       "additives_n                                17791\n",
       "additives                                  17799\n",
       "additives_tags                             30455\n",
       "additives_fr                               30455\n",
       "ingredients_from_palm_oil_n                17791\n",
       "ingredients_that_may_be_from_palm_oil_n    17791\n",
       "nutrition_grade_fr                             0\n",
       "dtype: int64"
      ]
     },
     "execution_count": 37,
     "metadata": {},
     "output_type": "execute_result"
    }
   ],
   "source": [
    "df_nutriscore.isnull().sum()"
   ]
  },
  {
   "cell_type": "code",
   "execution_count": 38,
   "metadata": {},
   "outputs": [],
   "source": [
    "df_nutriscore.dropna(inplace=True)"
   ]
  },
  {
   "cell_type": "code",
   "execution_count": 39,
   "metadata": {},
   "outputs": [
    {
     "data": {
      "text/plain": [
       "energy_100g                                0\n",
       "fat_100g                                   0\n",
       "saturated-fat_100g                         0\n",
       "trans-fat_100g                             0\n",
       "cholesterol_100g                           0\n",
       "carbohydrates_100g                         0\n",
       "sugars_100g                                0\n",
       "fiber_100g                                 0\n",
       "proteins_100g                              0\n",
       "salt_100g                                  0\n",
       "sodium_100g                                0\n",
       "vitamin-a_100g                             0\n",
       "vitamin-c_100g                             0\n",
       "calcium_100g                               0\n",
       "iron_100g                                  0\n",
       "nutrition-score-fr_100g                    0\n",
       "code                                       0\n",
       "creator                                    0\n",
       "created_t                                  0\n",
       "last_modified_t                            0\n",
       "product_name                               0\n",
       "brands                                     0\n",
       "countries                                  0\n",
       "countries_fr                               0\n",
       "ingredients_text                           0\n",
       "serving_size                               0\n",
       "additives_n                                0\n",
       "additives                                  0\n",
       "additives_tags                             0\n",
       "additives_fr                               0\n",
       "ingredients_from_palm_oil_n                0\n",
       "ingredients_that_may_be_from_palm_oil_n    0\n",
       "nutrition_grade_fr                         0\n",
       "dtype: int64"
      ]
     },
     "execution_count": 39,
     "metadata": {},
     "output_type": "execute_result"
    }
   ],
   "source": [
    "df_nutriscore.isnull().sum()"
   ]
  },
  {
   "cell_type": "code",
   "execution_count": 40,
   "metadata": {},
   "outputs": [
    {
     "data": {
      "text/plain": [
       "<AxesSubplot:xlabel='nutrition_grade_fr', ylabel='count'>"
      ]
     },
     "execution_count": 40,
     "metadata": {},
     "output_type": "execute_result"
    },
    {
     "data": {
      "image/png": "[encoded data removed]",
      "text/plain": [
       "<Figure size 640x480 with 1 Axes>"
      ]
     },
     "metadata": {},
     "output_type": "display_data"
    }
   ],
   "source": [
    "sns.countplot(df_nutriscore, x='nutrition_grade_fr')"
   ]
  },
  {
   "cell_type": "markdown",
   "metadata": {},
   "source": [
    "Les données sont sur-représentées pour certaines classes, ce qui pourrait causer du biais dans le modèle."
   ]
  },
  {
   "cell_type": "markdown",
   "metadata": {},
   "source": [
    "## Equilibrage des données"
   ]
  },
  {
   "cell_type": "code",
   "execution_count": 41,
   "metadata": {},
   "outputs": [],
   "source": [
    "# On compte le nombre d'observation par classe\n",
    "counts = df_nutriscore['nutrition_grade_fr'].value_counts()\n",
    "# on récupère le min\n",
    "min_samples = counts.min()\n",
    "\n",
    "# on crée un nouveau dataframe pour contenir les données équilibrées\n",
    "df_nutriscore_eq = pd.DataFrame()\n",
    "# on fait uun rééchantillonage en fixant le nombre d'observations par classe au min calculé précédemment\n",
    "for label in counts.index:\n",
    "    subset = df_nutriscore[df_nutriscore['nutrition_grade_fr'] == label].sample(min_samples, random_state=42) # chaque échantillon est tiré aléatoirement et de manière reproductible avec le random seed\n",
    "    df_nutriscore_eq = pd.concat([df_nutriscore_eq, subset], axis=0) # on joint les données en lignes\n"
   ]
  },
  {
   "cell_type": "code",
   "execution_count": 42,
   "metadata": {},
   "outputs": [
    {
     "data": {
      "text/plain": [
       "<AxesSubplot:xlabel='nutrition_grade_fr', ylabel='count'>"
      ]
     },
     "execution_count": 42,
     "metadata": {},
     "output_type": "execute_result"
    },
    {
     "data": {
      "image/png": "[encoded data removed]",
      "text/plain": [
       "<Figure size 640x480 with 1 Axes>"
      ]
     },
     "metadata": {},
     "output_type": "display_data"
    }
   ],
   "source": [
    "sns.countplot(df_nutriscore_eq, x='nutrition_grade_fr')"
   ]
  },
  {
   "cell_type": "markdown",
   "metadata": {},
   "source": [
    "### Numérisation de la variable qualitative"
   ]
  },
  {
   "cell_type": "code",
   "execution_count": 43,
   "metadata": {},
   "outputs": [
    {
     "name": "stderr",
     "output_type": "stream",
     "text": [
      "C:\\Users\\jaure\\AppData\\Local\\Temp\\ipykernel_5124\\4267136583.py:9: SettingWithCopyWarning: \n",
      "A value is trying to be set on a copy of a slice from a DataFrame.\n",
      "Try using .loc[row_indexer,col_indexer] = value instead\n",
      "\n",
      "See the caveats in the documentation: https://pandas.pydata.org/pandas-docs/stable/user_guide/indexing.html#returning-a-view-versus-a-copy\n",
      "  df_nutriscore_numeric[\"nutrition_grade_fr\"] = df_nutriscore_numeric[\"nutrition_grade_fr\"].apply(lambda x: nutri_code[x])\n"
     ]
    }
   ],
   "source": [
    "# On récupère toutes les colonnes ne contenant que des valeurs numériques pour servir de variables explicatives\n",
    "liste_variables_quantitatives = df_nutriscore_eq.select_dtypes(include=['number']).columns.tolist()\n",
    "\n",
    "# notre dataframe final contient les variables quantitatives et la variable d'intérêt \"nutrition_grade_fr\"\n",
    "df_nutriscore_numeric = df_nutriscore_eq[liste_variables_quantitatives + [\"nutrition_grade_fr\"]]\n",
    "\n",
    "# Transformation de la variable quantitative en quanti codés de 0 à 4 selon le classement\n",
    "nutri_code = {\"e\": 0, \"d\":1, \"c\":2, \"b\":3, \"a\":4}\n",
    "df_nutriscore_numeric[\"nutrition_grade_fr\"] = df_nutriscore_numeric[\"nutrition_grade_fr\"].apply(lambda x: nutri_code[x])"
   ]
  },
  {
   "cell_type": "code",
   "execution_count": 44,
   "metadata": {},
   "outputs": [],
   "source": [
    "def split_data(data, variable_interet = \"nutrition_grade_fr\", train_size = 0.8):\n",
    "    from sklearn.preprocessing import MinMaxScaler\n",
    "    scaler = MinMaxScaler()\n",
    "    \n",
    "    \"\"\"Cette fonction permet de séparer des jeu de données en une matrice contenant les variables explicatives et un vecteur contenant la variable d'intérêt. Elle renvoie \n",
    "    un tuple contenant les variables citées précedemment pour la phase d'entrainement et la phase de test.\n",
    "\n",
    "    Args:\n",
    "        data (dataframe): jeu de données complet\n",
    "        variable_interet (str, optional): nom de la variable explicative dans le jeu de données. Par défaut \"nutrition_grade_fr\".\n",
    "        train_size (float, optional): ratio de données utilisé pour la phase d'entrainement. Par défaut 0.8 <=> 80% des données pour l'entrainement\n",
    "\n",
    "    Returns:\n",
    "        tuple: variables explicatives et d'intéret pour les phase d'entrainement et de test\n",
    "    \"\"\"\n",
    "    X = data.drop(labels=[variable_interet], axis=1).values\n",
    "    \n",
    "    # Normalisation des données\n",
    "    X = scaler.fit_transform(X)\n",
    "\n",
    "    y = data[variable_interet].values\n",
    "    \n",
    "    X_train, X_test, y_train, y_test = train_test_split(X, y, train_size=train_size, random_state=42)\n",
    "    return X_train, X_test, y_train, y_test\n",
    "\n",
    "X_train, X_test, y_train, y_test = split_data(df_nutriscore_numeric)"
   ]
  },
  {
   "cell_type": "markdown",
   "metadata": {},
   "source": [
    "# Méthodes de sélection de variables"
   ]
  },
  {
   "cell_type": "markdown",
   "metadata": {},
   "source": [
    "## 1 Sélection univariée par test de Chi2"
   ]
  },
  {
   "cell_type": "code",
   "execution_count": 45,
   "metadata": {},
   "outputs": [],
   "source": [
    "\n",
    "def chi2_selector(list_k : List, model = LogisticAT(), X_train = X_train, X_test=X_test, y_train=y_train, y_test=y_test):\n",
    "    \"\"\"Cette fonction permet une séléction de variables en se basant sur les performances obtenues en fonction du test du chi_2\n",
    "\n",
    "    Args:\n",
    "        list_k (List): liste des variables explicatives passées au modèle\n",
    "        model : Notre modèle de régression. Par défaut LogisticAT().\n",
    "        X_train (optional): Matrice des variables explicatives pour l'entrainement. Par défaut X_train.\n",
    "        X_test (optional): Matrice des variables explicatives pour le test. Par défaut X_test.\n",
    "        y_train (_type_, optional): Labels de classe pour l'entrainement. Par défaut y_train.\n",
    "        y_test (_type_, optional): Labels de classe pour le test. Par défaut y_test.\n",
    "\n",
    "    Returns:\n",
    "        Dict: Dictionnaire repertoriant les valeurs de k et la liste des variables passées au modèle\n",
    "    \"\"\"\n",
    "    from sklearn.feature_selection import SelectKBest, chi2\n",
    "    \n",
    "    results = {}\n",
    "    for k in list_k:\n",
    "    # Sélection des k meilleures caractéristiques en utilisant le test du Chi-deux\n",
    "        print(f\"Pour k = {k}\")\n",
    "        print(\"***********************\")\n",
    "        selector = SelectKBest(chi2, k=k)\n",
    "        X_train_selected = selector.fit_transform(X_train, y_train)\n",
    "        X_test_selected = selector.transform(X_test)\n",
    "        \n",
    "        indices_selectionnes = selector.get_support(indices=True)\n",
    "\n",
    "        # Entraînement du modèle sur les caractéristiques sélectionnées\n",
    "        model.fit(X_train_selected, y_train)\n",
    "\n",
    "        # prédictions sur l'ensemble de test\n",
    "        predictions = model.predict(X_test_selected)\n",
    "        # Mesure la performance du modèle\n",
    "        accuracy = accuracy_score(y_test, predictions)\n",
    "        # on peut également récupérer les p_values au besoin avec \"selector.pvalues_\"\n",
    "        \n",
    "        # on récupère les noms de colonnes séléctionnées par itération\n",
    "        results[f\"k = {k}\"] = f\"variables sélectionnées {list(df_nutriscore_numeric.columns[indices_selectionnes])}\"\n",
    "        \n",
    "        # Affichage du résultat de l'itération\n",
    "        print(\"Précision du modèle sur l'ensemble test : {:.2f}%\".format(accuracy * 100))\n",
    "        print(\"\")\n",
    "    return results\n"
   ]
  },
  {
   "cell_type": "code",
   "execution_count": 46,
   "metadata": {},
   "outputs": [
    {
     "name": "stdout",
     "output_type": "stream",
     "text": [
      "Pour k = 1\n",
      "***********************\n",
      "Précision du modèle sur l'ensemble test : 11.13%\n",
      "\n",
      "Pour k = 2\n",
      "***********************\n",
      "Précision du modèle sur l'ensemble test : 51.12%\n",
      "\n",
      "Pour k = 3\n",
      "***********************\n",
      "Précision du modèle sur l'ensemble test : 59.40%\n",
      "\n",
      "Pour k = 4\n",
      "***********************\n",
      "Précision du modèle sur l'ensemble test : 59.95%\n",
      "\n",
      "Pour k = 5\n",
      "***********************\n",
      "Précision du modèle sur l'ensemble test : 60.83%\n",
      "\n",
      "Pour k = 6\n",
      "***********************\n",
      "Précision du modèle sur l'ensemble test : 94.70%\n",
      "\n",
      "Pour k = 7\n",
      "***********************\n",
      "Précision du modèle sur l'ensemble test : 94.70%\n",
      "\n",
      "Pour k = 8\n",
      "***********************\n",
      "Précision du modèle sur l'ensemble test : 95.38%\n",
      "\n",
      "Pour k = 9\n",
      "***********************\n",
      "Précision du modèle sur l'ensemble test : 95.38%\n",
      "\n",
      "Pour k = 10\n",
      "***********************\n",
      "Précision du modèle sur l'ensemble test : 95.45%\n",
      "\n",
      "Pour k = 11\n",
      "***********************\n",
      "Précision du modèle sur l'ensemble test : 95.45%\n",
      "\n",
      "Pour k = 12\n",
      "***********************\n",
      "Précision du modèle sur l'ensemble test : 95.18%\n",
      "\n",
      "Pour k = 13\n",
      "***********************\n",
      "Précision du modèle sur l'ensemble test : 95.18%\n",
      "\n",
      "Pour k = 14\n",
      "***********************\n",
      "Précision du modèle sur l'ensemble test : 95.18%\n",
      "\n",
      "Pour k = 15\n",
      "***********************\n",
      "Précision du modèle sur l'ensemble test : 95.45%\n",
      "\n",
      "Pour k = 16\n",
      "***********************\n",
      "Précision du modèle sur l'ensemble test : 94.98%\n",
      "\n",
      "Pour k = 17\n",
      "***********************\n",
      "Précision du modèle sur l'ensemble test : 94.91%\n",
      "\n",
      "Pour k = 18\n",
      "***********************\n",
      "Précision du modèle sur l'ensemble test : 94.70%\n",
      "\n",
      "Pour k = 19\n",
      "***********************\n",
      "Précision du modèle sur l'ensemble test : 94.77%\n",
      "\n",
      "Pour k = 20\n",
      "***********************\n",
      "Précision du modèle sur l'ensemble test : 94.77%\n",
      "\n"
     ]
    }
   ],
   "source": [
    "resultats = chi2_selector(list_k=np.arange(1, len(df_nutriscore_numeric.columns.tolist())))"
   ]
  },
  {
   "cell_type": "markdown",
   "metadata": {},
   "source": [
    "Selon le chi2, le meilleur modèle est celui avec les variables :"
   ]
  },
  {
   "cell_type": "code",
   "execution_count": 47,
   "metadata": {},
   "outputs": [
    {
     "data": {
      "text/plain": [
       "\"variables sélectionnées ['energy_100g', 'fat_100g', 'saturated-fat_100g', 'trans-fat_100g', 'cholesterol_100g', 'sugars_100g', 'nutrition-score-fr_100g']\""
      ]
     },
     "execution_count": 47,
     "metadata": {},
     "output_type": "execute_result"
    }
   ],
   "source": [
    "resultats[\"k = 7\"]"
   ]
  },
  {
   "cell_type": "markdown",
   "metadata": {},
   "source": [
    "## Sélection par critère AIC | BIC"
   ]
  },
  {
   "cell_type": "code",
   "execution_count": 48,
   "metadata": {},
   "outputs": [],
   "source": [
    "from sklearn.linear_model import LogisticRegression\n",
    "from sklearn.metrics import log_loss\n",
    "import numpy as np\n",
    "\n",
    "def calcul_bic_aic(model, X, y, penalty_term, criterion='bic'):\n",
    "    # Calcul de la log-vraisemblance\n",
    "    log_likelihood = -log_loss(y, model.predict_proba(X))\n",
    "    # Obtenez le nombre de paramètres du modèle\n",
    "    num_params = len(model.coef_.ravel()) + 1  # coef_ contient les coefficients du modèle\n",
    "    # Calcul du BIC ou l'AIC\n",
    "    if criterion == 'bic':\n",
    "        bic_aic = -2 * log_likelihood + penalty_term * np.log(X.shape[0]) * num_params\n",
    "    elif criterion == 'aic':\n",
    "        bic_aic = -2 * log_likelihood + penalty_term * 2 * num_params\n",
    "    else:\n",
    "        raise ValueError(\"Le critère doit être 'bic' ou 'aic'.\")\n",
    "    return bic_aic\n",
    "\n",
    "def compare_model(liste_variables : List, model):\n",
    "    \n",
    "    X_train, X_test, y_train, y_test = train_test_split(df_nutriscore_numeric[liste_variables], df_nutriscore_numeric['nutrition_grade_fr'].values, test_size=0.8, random_state=42)\n",
    "\n",
    "    # Entraînement du modèle\n",
    "    model.fit(X_train, y_train)\n",
    "\n",
    "    # Cterme de pénalité (à ajuster en fonction des besoins)\n",
    "    penalty_term = 1.0\n",
    "\n",
    "    # Calcule le BIC ou l'AIC pour le modèle\n",
    "    bic_aic = calcul_bic_aic(model, X_train, y_train, penalty_term, criterion='bic')\n",
    "\n",
    "    return bic_aic\n"
   ]
  },
  {
   "cell_type": "code",
   "execution_count": 49,
   "metadata": {},
   "outputs": [
    {
     "name": "stderr",
     "output_type": "stream",
     "text": [
      "100%|██████████| 17/17 [00:15<00:00,  1.07it/s]\n"
     ]
    }
   ],
   "source": [
    "results = {}\n",
    "for l in tqdm([list(df_nutriscore_numeric.columns[:i]) for i in range(3, len(df_nutriscore_numeric.columns.to_list()) -1)]):\n",
    "    results[f\" variables {l} \"] = f\" BIC = {compare_model(liste_variables=l, model=LogisticAT())}\""
   ]
  },
  {
   "cell_type": "code",
   "execution_count": 50,
   "metadata": {},
   "outputs": [
    {
     "data": {
      "text/plain": [
       "{\" variables ['energy_100g', 'fat_100g', 'saturated-fat_100g'] \": ' BIC = 31.275638137061133',\n",
       " \" variables ['energy_100g', 'fat_100g', 'saturated-fat_100g', 'trans-fat_100g'] \": ' BIC = 38.496365569545766',\n",
       " \" variables ['energy_100g', 'fat_100g', 'saturated-fat_100g', 'trans-fat_100g', 'cholesterol_100g'] \": ' BIC = 45.750414365166804',\n",
       " \" variables ['energy_100g', 'fat_100g', 'saturated-fat_100g', 'trans-fat_100g', 'cholesterol_100g', 'carbohydrates_100g'] \": ' BIC = 53.043890461302986',\n",
       " \" variables ['energy_100g', 'fat_100g', 'saturated-fat_100g', 'trans-fat_100g', 'cholesterol_100g', 'carbohydrates_100g', 'sugars_100g'] \": ' BIC = 60.2732854090703',\n",
       " \" variables ['energy_100g', 'fat_100g', 'saturated-fat_100g', 'trans-fat_100g', 'cholesterol_100g', 'carbohydrates_100g', 'sugars_100g', 'fiber_100g'] \": ' BIC = 67.39356145030322',\n",
       " \" variables ['energy_100g', 'fat_100g', 'saturated-fat_100g', 'trans-fat_100g', 'cholesterol_100g', 'carbohydrates_100g', 'sugars_100g', 'fiber_100g', 'proteins_100g'] \": ' BIC = 74.65639519597437',\n",
       " \" variables ['energy_100g', 'fat_100g', 'saturated-fat_100g', 'trans-fat_100g', 'cholesterol_100g', 'carbohydrates_100g', 'sugars_100g', 'fiber_100g', 'proteins_100g', 'salt_100g'] \": ' BIC = 81.69568093318728',\n",
       " \" variables ['energy_100g', 'fat_100g', 'saturated-fat_100g', 'trans-fat_100g', 'cholesterol_100g', 'carbohydrates_100g', 'sugars_100g', 'fiber_100g', 'proteins_100g', 'salt_100g', 'sodium_100g'] \": ' BIC = 88.99790411064053',\n",
       " \" variables ['energy_100g', 'fat_100g', 'saturated-fat_100g', 'trans-fat_100g', 'cholesterol_100g', 'carbohydrates_100g', 'sugars_100g', 'fiber_100g', 'proteins_100g', 'salt_100g', 'sodium_100g', 'vitamin-a_100g'] \": ' BIC = 96.282742891016',\n",
       " \" variables ['energy_100g', 'fat_100g', 'saturated-fat_100g', 'trans-fat_100g', 'cholesterol_100g', 'carbohydrates_100g', 'sugars_100g', 'fiber_100g', 'proteins_100g', 'salt_100g', 'sodium_100g', 'vitamin-a_100g', 'vitamin-c_100g'] \": ' BIC = 103.57984419460095',\n",
       " \" variables ['energy_100g', 'fat_100g', 'saturated-fat_100g', 'trans-fat_100g', 'cholesterol_100g', 'carbohydrates_100g', 'sugars_100g', 'fiber_100g', 'proteins_100g', 'salt_100g', 'sodium_100g', 'vitamin-a_100g', 'vitamin-c_100g', 'calcium_100g'] \": ' BIC = 110.87543464112069',\n",
       " \" variables ['energy_100g', 'fat_100g', 'saturated-fat_100g', 'trans-fat_100g', 'cholesterol_100g', 'carbohydrates_100g', 'sugars_100g', 'fiber_100g', 'proteins_100g', 'salt_100g', 'sodium_100g', 'vitamin-a_100g', 'vitamin-c_100g', 'calcium_100g', 'iron_100g'] \": ' BIC = 118.16192754612302',\n",
       " \" variables ['energy_100g', 'fat_100g', 'saturated-fat_100g', 'trans-fat_100g', 'cholesterol_100g', 'carbohydrates_100g', 'sugars_100g', 'fiber_100g', 'proteins_100g', 'salt_100g', 'sodium_100g', 'vitamin-a_100g', 'vitamin-c_100g', 'calcium_100g', 'iron_100g', 'nutrition-score-fr_100g'] \": ' BIC = 124.2658879762468',\n",
       " \" variables ['energy_100g', 'fat_100g', 'saturated-fat_100g', 'trans-fat_100g', 'cholesterol_100g', 'carbohydrates_100g', 'sugars_100g', 'fiber_100g', 'proteins_100g', 'salt_100g', 'sodium_100g', 'vitamin-a_100g', 'vitamin-c_100g', 'calcium_100g', 'iron_100g', 'nutrition-score-fr_100g', 'code'] \": ' BIC = 135.7192693761258',\n",
       " \" variables ['energy_100g', 'fat_100g', 'saturated-fat_100g', 'trans-fat_100g', 'cholesterol_100g', 'carbohydrates_100g', 'sugars_100g', 'fiber_100g', 'proteins_100g', 'salt_100g', 'sodium_100g', 'vitamin-a_100g', 'vitamin-c_100g', 'calcium_100g', 'iron_100g', 'nutrition-score-fr_100g', 'code', 'additives_n'] \": ' BIC = 143.01432579258844',\n",
       " \" variables ['energy_100g', 'fat_100g', 'saturated-fat_100g', 'trans-fat_100g', 'cholesterol_100g', 'carbohydrates_100g', 'sugars_100g', 'fiber_100g', 'proteins_100g', 'salt_100g', 'sodium_100g', 'vitamin-a_100g', 'vitamin-c_100g', 'calcium_100g', 'iron_100g', 'nutrition-score-fr_100g', 'code', 'additives_n', 'ingredients_from_palm_oil_n'] \": ' BIC = 150.30938220905105'}"
      ]
     },
     "execution_count": 50,
     "metadata": {},
     "output_type": "execute_result"
    }
   ],
   "source": [
    "results"
   ]
  },
  {
   "cell_type": "markdown",
   "metadata": {},
   "source": [
    "#### Il n'existe pas de module python pour comparer le BIC ou AIC, j'ai du reprendre la formule à la main. C'est à revoir avec le reste de l'équipe ou le data scientist"
   ]
  },
  {
   "cell_type": "markdown",
   "metadata": {},
   "source": []
  },
  {
   "cell_type": "markdown",
   "metadata": {},
   "source": [
    "## 3 Rétroélimination (Backward Elimination) : \n",
    "On commence par inclure toutes les variables, puis on supprime itérativement les variables non significatives en fonction de la p-value."
   ]
  },
  {
   "cell_type": "code",
   "execution_count": null,
   "metadata": {},
   "outputs": [
    {
     "name": "stdout",
     "output_type": "stream",
     "text": [
      "Accuracy :94.77%\n"
     ]
    }
   ],
   "source": [
    "X_train, X_test, y_train, y_test = split_data(df_nutriscore_numeric)\n",
    "\n",
    "model = LogisticAT()\n",
    "\n",
    "# Entraînement du modèle\n",
    "model.fit(X_train, y_train)\n",
    "\n",
    "# Méthode pour évaluer la performance du modèle\n",
    "def precision(model, X, y):\n",
    "    y_pred = model.predict(X)\n",
    "\n",
    "    return accuracy_score(y, y_pred)\n",
    "\n",
    "# Évaluation de la performance du modèle sur l'ensemble de test en prenant toutes le variables explicatives\n",
    "accuracy = precision(model, X_test, y_test)\n",
    "print(\"Accuracy :{:.2f}%\".format(accuracy * 100))\n"
   ]
  },
  {
   "cell_type": "code",
   "execution_count": null,
   "metadata": {},
   "outputs": [],
   "source": [
    "import pandas as pd\n",
    "import numpy as np\n",
    "from tqdm import tqdm\n",
    "from mord import LogisticAT\n",
    "from sklearn.metrics import accuracy_score\n",
    "\n",
    "# Supposons que vos données soient dans un DataFrame appelé `data`\n",
    "X_train = df_nutriscore_numeric.drop('nutrition_grade_fr', axis=1)\n",
    "y_train = df_nutriscore_numeric['nutrition_grade_fr']\n",
    "\n",
    "def backward_elimination(X, y, model, significance_level=0.05):\n",
    "    num_vars = len(list(X.columns))\n",
    "    selected_features = list(X.columns)\n",
    "    for i in tqdm(range(num_vars)):\n",
    "        p_values = []\n",
    "        for feature in selected_features:\n",
    "            features_subset = selected_features.copy()\n",
    "            features_subset.remove(feature)\n",
    "            model.fit(X[features_subset], y)\n",
    "            y_pred = model.predict(X[features_subset])\n",
    "            p_value = 1 - accuracy_score(y, y_pred)  # Utilisez l'erreur de classification comme critère\n",
    "            p_values.append(p_value)\n",
    "        max_p_value = max(p_values)\n",
    "        if max_p_value > significance_level:\n",
    "            removed_feature = selected_features[p_values.index(max_p_value)]\n",
    "            selected_features.remove(removed_feature)\n",
    "        else:\n",
    "            break\n",
    "    return X[selected_features]\n",
    "\n",
    "# Initialisation du modèle\n",
    "model = LogisticAT()\n",
    "\n",
    "# Appel de la fonction de sélection des variables\n",
    "variables_selectionnees = backward_elimination(X_train, y_train, model)\n",
    "\n",
    "print(\"Variables sélectionnées :\", variables_selectionnees.columns.to_list())\n"
   ]
  },
  {
   "cell_type": "markdown",
   "metadata": {},
   "source": [
    "Le code est à revoir encore quelques bugs de type de données que je dois corriger encore...!"
   ]
  },
  {
   "cell_type": "markdown",
   "metadata": {},
   "source": [
    "## 4 Sélection avant (Forward Selection) : \n",
    "On commence avec un modèle une seule variable et on ajoutez itérativement des variables jusqu'à ce qu'elles deviennent significatives."
   ]
  }
 ],
 "metadata": {
  "kernelspec": {
   "display_name": "base",
   "language": "python",
   "name": "python3"
  },
  "language_info": {
   "codemirror_mode": {
    "name": "ipython",
    "version": 3
   },
   "file_extension": ".py",
   "mimetype": "text/x-python",
   "name": "python",
   "nbconvert_exporter": "python",
   "pygments_lexer": "ipython3",
   "version": "3.9.18"
  }
 },
 "nbformat": 4,
 "nbformat_minor": 2
}
