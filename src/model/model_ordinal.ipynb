{
 "cells": [
  {
   "cell_type": "markdown",
   "metadata": {},
   "source": [
    "# Ce notebook rassemble les méthodes statistiques employées pour la sélection de variables pour le modèle de régression logistique ordinale"
   ]
  },
  {
   "cell_type": "code",
   "execution_count": 1,
   "metadata": {},
   "outputs": [],
   "source": [
    "import pandas as pd\n",
    "from sklearn.model_selection import train_test_split\n",
    "from mord import LogisticAT\n",
    "from typing import List\n",
    "import numpy as np\n",
    "\n",
    "import pickle"
   ]
  },
  {
   "cell_type": "code",
   "execution_count": 2,
   "metadata": {},
   "outputs": [],
   "source": [
    "df_train = pd.read_csv(\"../../data/train.csv\")\n",
    "df_test = pd.read_csv(\"../../data/test.csv\")"
   ]
  },
  {
   "cell_type": "code",
   "execution_count": 3,
   "metadata": {},
   "outputs": [],
   "source": [
    "X_train = df_train.drop(labels=[\"score\"], axis=1).values\n",
    "y_train = df_train[\"score\"].values\n",
    "\n",
    "X_test = df_test.drop(labels=[\"score\"], axis=1).values\n",
    "y_test = df_test[\"score\"].values"
   ]
  },
  {
   "cell_type": "code",
   "execution_count": 4,
   "metadata": {},
   "outputs": [],
   "source": [
    "from sklearn.preprocessing import StandardScaler\n",
    "scaler = StandardScaler()\n",
    "X_train = scaler.fit_transform(X_train)\n",
    "X_test = scaler.transform(X_test)"
   ]
  },
  {
   "cell_type": "markdown",
   "metadata": {},
   "source": [
    "## Méthodes de sélection de variables"
   ]
  },
  {
   "cell_type": "markdown",
   "metadata": {},
   "source": [
    "## *1-* Sélection par régression Lasso"
   ]
  },
  {
   "cell_type": "markdown",
   "metadata": {},
   "source": [
    "LogisticRegressionCV est utilisé pour effectuer une régression logistique avec une validation croisée pour sélectionner le meilleur paramètre de régularisation (C) parmi une liste de valeurs candidates ()"
   ]
  },
  {
   "cell_type": "code",
   "execution_count": 5,
   "metadata": {},
   "outputs": [
    {
     "name": "stdout",
     "output_type": "stream",
     "text": [
      "#########################################################\n",
      "\n",
      "Coefficients obtenus après Lasso:\n",
      "energy_100g: 0.0\n",
      "fat_100g: 0.2312759394181233\n",
      "saturated-fat_100g: 2.020391817385482\n",
      "trans-fat_100g: 0.8203335309026503\n",
      "cholesterol_100g: 1.251817937524018\n",
      "carbohydrates_100g: 0.0\n",
      "sugars_100g: 1.6820724367932676\n",
      "fiber_100g: -0.847604921358526\n",
      "proteins_100g: 0.09164171790418724\n",
      "salt_100g: 0.5031184929786225\n",
      "sodium_100g: 0.5023665030859524\n",
      "vitamin-a_100g: 0.3783509923197762\n",
      "vitamin-c_100g: 0.31518011118007916\n",
      "calcium_100g: -0.05431301772506332\n",
      "iron_100g: 0.0\n",
      "nutrition-score-fr_100g: 13.76347393595731\n",
      "code: 0.20051679584593599\n",
      "##########################################################\n",
      "\n",
      "Variables sélectionnées après Lasso\n",
      "\n",
      "fat_100g\n",
      "saturated-fat_100g\n",
      "trans-fat_100g\n",
      "cholesterol_100g\n",
      "sugars_100g\n",
      "fiber_100g\n",
      "proteins_100g\n",
      "salt_100g\n",
      "sodium_100g\n",
      "vitamin-a_100g\n",
      "vitamin-c_100g\n",
      "calcium_100g\n",
      "nutrition-score-fr_100g\n",
      "code\n",
      "\n",
      "Exactitude du modèle de régression logistique ordinale : 100.00%\n",
      "\n",
      "#####################################\n",
      "\n",
      "Enregistrement du modèle de régression logistique\n",
      "Modèle ordinal enregistré\n"
     ]
    },
    {
     "name": "stderr",
     "output_type": "stream",
     "text": [
      "c:\\Users\\jaure\\anaconda3\\lib\\site-packages\\sklearn\\linear_model\\_sag.py:350: ConvergenceWarning: The max_iter was reached which means the coef_ did not converge\n",
      "  warnings.warn(\n"
     ]
    }
   ],
   "source": [
    "from sklearn.linear_model import LogisticRegression\n",
    "from sklearn.feature_selection import SelectFromModel\n",
    "from sklearn.metrics import accuracy_score\n",
    "from mord import LogisticAT\n",
    "\n",
    "# modèle de régression logistique avec pénalité L1 (LASSO)\n",
    "model_lasso = LogisticRegression(penalty='l1', solver='saga', max_iter=1000, random_state=42)\n",
    "\n",
    "# SelectFromModel pour effectuer la sélection de variables\n",
    "sfm = SelectFromModel(estimator=model_lasso)\n",
    "sfm.fit(X_train, y_train)\n",
    "\n",
    "# indices des variables sélectionnées\n",
    "indices_lasso = sfm.get_support(indices=True)\n",
    "variables = [df_train.columns[i] for i in indices_lasso]\n",
    "# coefficients des variables sélectionnées\n",
    "coefficients_lasso = sfm.estimator_.coef_.flatten()\n",
    "\n",
    "# noms et coefficients des variables\n",
    "print(\"#########################################################\")\n",
    "print()\n",
    "print(\"Coefficients obtenus après Lasso:\")\n",
    "for variable, coefficient in zip(variables, coefficients_lasso):\n",
    "    print(f\"{variable}: {coefficient}\")\n",
    "\n",
    "# On pénalise en ne prenant que les coeffs différents de 0 (on pourrait prendre >0.05 aussi)\n",
    "indices_choisis = [i for i, coef in zip(indices_lasso, coefficients_lasso) if coef != 0]\n",
    "\n",
    "variables_choisies = [df_train.columns[i] for i in indices_choisis]\n",
    "\n",
    "print(\"##########################################################\")\n",
    "print()\n",
    "print(\"Variables sélectionnées après Lasso\")\n",
    "print()\n",
    "for variable in variables_choisies:\n",
    "    print(f\"{variable}\")\n",
    "\n",
    "\n",
    "# on utilise les indices filtrés pour obtenir les données des variables optimales sélectionnées\n",
    "X_train_final = X_train[:, indices_choisis]\n",
    "X_test_final = X_test[:, indices_choisis]\n",
    "\n",
    "# Maintenant, utilisez les variables sélectionnées pour la régression logistique ordinale avec mord\n",
    "model_ordinal = LogisticAT(alpha=0)  # Utilisez alpha=0 pour désactiver la régularisation (ou ajustez selon vos besoins)\n",
    "\n",
    "# Entraînez le modèle sur les données d'entraînement avec les variables sélectionnées\n",
    "model_ordinal.fit(X_train_final, y_train)\n",
    "\n",
    "# Faites des prédictions sur les données de test avec les variables sélectionnées\n",
    "predictions_ordinal = model_ordinal.predict(X_test_final)\n",
    "\n",
    "# Calculez l'exactitude du modèle de régression logistique ordinale\n",
    "accuracy_ordinal = accuracy_score(y_test, predictions_ordinal)\n",
    "\n",
    "print()\n",
    "print(\"Exactitude du modèle de régression logistique ordinale : {:.2f}%\".format(accuracy_ordinal * 100))\n",
    "print()\n",
    "\n",
    "print(\"#####################################\")\n",
    "print()\n",
    "print(\"Enregistrement du modèle de régression logistique\")\n",
    "with open('../model/modele_ordinal.pkl', 'wb') as model_file:\n",
    "    pickle.dump(model_ordinal, model_file)\n",
    "\n",
    "print(\"Modèle ordinal enregistré\")\n"
   ]
  },
  {
   "cell_type": "markdown",
   "metadata": {},
   "source": [
    "### Re-test du modèle enregistré"
   ]
  },
  {
   "cell_type": "code",
   "execution_count": 6,
   "metadata": {},
   "outputs": [
    {
     "name": "stdout",
     "output_type": "stream",
     "text": [
      "100.00%\n"
     ]
    }
   ],
   "source": [
    "with open('../model/modele_ordinal.pkl', 'rb') as model_file:\n",
    "    model_ordinal = pickle.load(model_file)\n",
    "    \n",
    "predictions = model_ordinal.predict(X_test_final)\n",
    "accuracy_ordinal = accuracy_score(y_test, predictions)\n",
    "print(\"{:.2f}%\".format(accuracy_ordinal * 100))"
   ]
  }
 ],
 "metadata": {
  "kernelspec": {
   "display_name": "base",
   "language": "python",
   "name": "python3"
  },
  "language_info": {
   "codemirror_mode": {
    "name": "ipython",
    "version": 3
   },
   "file_extension": ".py",
   "mimetype": "text/x-python",
   "name": "python",
   "nbconvert_exporter": "python",
   "pygments_lexer": "ipython3",
   "version": "3.9.18"
  }
 },
 "nbformat": 4,
 "nbformat_minor": 2
}
