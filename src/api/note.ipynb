{
 "cells": [
  {
   "cell_type": "code",
   "execution_count": 8,
   "metadata": {},
   "outputs": [],
   "source": [
    "import pickle\n",
    "from sklearn.ensemble import RandomForestClassifier\n",
    "# charger les modèles\n",
    "with open(\"..\\\\tools\\\\random_forest_conso.pickle\",\"rb\") as file :\n",
    "            model_conso=pickle.load(file)\n",
    "            \n",
    "with open(\"..\\\\tools\\\\random_forest_prod.pickle\",\"rb\") as file :\n",
    "            model_prod=pickle.load(file)\n",
    "            "
   ]
  },
  {
   "cell_type": "markdown",
   "metadata": {},
   "source": [
    "import pickle\n",
    "from sklearn.ensemble import RandomForestClassifier\n",
    "import pandas as pd\n",
    "import numpy as np"
   ]
  },
  {
   "cell_type": "code",
   "execution_count": 18,
   "metadata": {},
   "outputs": [
    {
     "data": {
      "text/plain": [
       "energy_100g           1024.000000\n",
       "fat_100g                10.200000\n",
       "saturated-fat_100g       5.800000\n",
       "trans-fat_100g           0.479351\n",
       "cholesterol_100g         0.000887\n",
       "carbohydrates_100g      26.700000\n",
       "sugars_100g              3.000000\n",
       "fiber_100g               3.000000\n",
       "proteins_100g            9.900000\n",
       "salt_100g                1.300000\n",
       "sodium_100g              0.511811\n",
       "vitamin-a_100g           0.000332\n",
       "vitamin-c_100g           0.020000\n",
       "calcium_100g             0.148621\n",
       "iron_100g                0.007000\n",
       "score                    2.000000\n",
       "Name: 1, dtype: float64"
      ]
     },
     "execution_count": 18,
     "metadata": {},
     "output_type": "execute_result"
    }
   ],
   "source": [
    "import pandas as pd\n",
    "import numpy as np\n",
    "\n",
    "train=pd.read_csv('..\\\\..\\\\data\\\\train.csv')\n",
    "test=pd.read_csv('..\\\\..\\\\data\\\\test.csv')\n",
    "\n",
    "test=test.loc[1,:]\n",
    "\n",
    "test\n",
    "\n",
    "\n",
    "\n"
   ]
  },
  {
   "cell_type": "code",
   "execution_count": 25,
   "metadata": {},
   "outputs": [
    {
     "name": "stdout",
     "output_type": "stream",
     "text": [
      "[[0.03041669 0.10880206 0.73146793 0.12159727 0.00771605]]\n",
      "0.030416689858077797\n",
      "0.10880205656233989\n",
      "0.7314679295255127\n",
      "0.12159727467135366\n",
      "0.00771604938271605\n"
     ]
    },
    {
     "name": "stderr",
     "output_type": "stream",
     "text": [
      "c:\\Users\\edson\\anaconda3\\Lib\\site-packages\\sklearn\\base.py:464: UserWarning: X does not have valid feature names, but RandomForestClassifier was fitted with feature names\n",
      "  warnings.warn(\n"
     ]
    }
   ],
   "source": [
    "var_c=['energy_100g','fat_100g','saturated-fat_100g','carbohydrates_100g','sugars_100g',\n",
    " 'proteins_100g','salt_100g']\n",
    "var_p=['energy_100g','fat_100g','saturated-fat_100g',\n",
    "       'trans-fat_100g','cholesterol_100g','carbohydrates_100g','sugars_100g','fiber_100g',\n",
    "       'sodium_100g','vitamin-a_100g','vitamin-c_100g','calcium_100g','iron_100g']\n",
    "\n",
    "\n",
    "result=model_prod.predict_proba(np.array(test[var_p]).reshape(1,13))\n",
    "#{\"E\":0\n",
    "# \"D\":1,\n",
    "# \"C\":2, \n",
    "# \"B\":3,\n",
    "# \"A\":4}\n",
    "\n",
    "prob_E=result[0][0]\n",
    "prob_D=result[0][1]\n",
    "prob_C=result[0][2]\n",
    "prob_B=result[0][3]\n",
    "prob_A=result[0][4]\n",
    "print(result)\n",
    "for i in range(5):\n",
    "       print(result[0][i])"
   ]
  },
  {
   "cell_type": "code",
   "execution_count": null,
   "metadata": {},
   "outputs": [],
   "source": [
    " try:\n",
    "        with open(\"..\\\\tools\\\\random_forest_conso.pickle\",\"rb\") as file :\n",
    "            model_conso=pickle.load(file)\n",
    "            \n",
    "        with open(\"..\\\\tools\\\\random_forest_prod.pickle\",\"rb\") as file :\n",
    "            model_prod=pickle.load(file)\n",
    "\n",
    "        data = request.json\n",
    "\n",
    "\n",
    "        energy = data.get('Energie')\n",
    "        fat = data.get('Mat_gras')\n",
    "        saturated_fat = data.get('Mat_gras_sat')\n",
    "        trans_fat=data.get('trans_fat')\n",
    "        cholesterol = data.get('Choles')\n",
    "        carbohydrates = data.get('carb')\n",
    "        sugars = data.get('Sucre')\n",
    "        proteins= data.get('prot')\n",
    "        salt= data.get('Sel')\n",
    "        fiber = data.get('Fibre')\n",
    "        sodium= data.get('Fibre')\n",
    "        vita_A= data.get('Fibre')\n",
    "        vita_C = data.get('Vita_C')\n",
    "        cal = data.get('Cal')\n",
    "        iron = data.get('Fer')\n",
    "\n",
    "        # liste des variables selon le modèle\n",
    "        var_conso=[energy,fat,saturated_fat,carbohydrates,sugars,proteins,salt]\n",
    "        var_prod=[energy,fat,saturated_fat,trans_fat,cholesterol,carbohydrates,sugars,fiber,sodium,vita_A,\n",
    "                  vita_C,cal,iron]\n",
    "\n",
    "        # Condition pour sélectionner le modèle\n",
    "        if data.get('conso') == 1:\n",
    "            df=np.array(var_conso).reshape(1,7)\n",
    "            model=model_conso\n",
    "        else:\n",
    "            df=np.array(var_prod).reshape(1,13)\n",
    "            model=model_prod\n",
    " # Effectue une prédiction en utilisant le modèle et les données reçues.\n",
    "\n",
    "        if all(x is not None for x in df):\n",
    "            reponse=model.predict_proba(df)\n",
    "            prob_E=result[0][0]\n",
    "            prob_D=result[0][1]\n",
    "            prob_C=result[0][2]\n",
    "            prob_B=result[0][3]\n",
    "            prob_A=result[0][4]\n",
    "\n",
    "  # Construire le json de sortie.\n",
    "\n",
    "            return jsonify({\"prob_E\": prob_E,\"prob_D\": prob_D,\"prob_C\": prob_C,\"prob_B\": prob_B,\"prob_A\": prob_A})\n",
    "        else:\n",
    "            return jsonify({\"error\": \"Missing data in the request\"}), 400\n",
    "    except Exception as e:\n",
    "        return jsonify({\"error\": str(e)}), 500"
   ]
  }
 ],
 "metadata": {
  "kernelspec": {
   "display_name": "base",
   "language": "python",
   "name": "python3"
  },
  "language_info": {
   "codemirror_mode": {
    "name": "ipython",
    "version": 3
   },
   "file_extension": ".py",
   "mimetype": "text/x-python",
   "name": "python",
   "nbconvert_exporter": "python",
   "pygments_lexer": "ipython3",
   "version": "3.11.4"
  }
 },
 "nbformat": 4,
 "nbformat_minor": 2
}
